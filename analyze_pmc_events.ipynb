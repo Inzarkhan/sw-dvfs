{
 "cells": [
  {
   "cell_type": "markdown",
   "id": "e4823510",
   "metadata": {},
   "source": [
    "# Analyze PMC Events\n",
    "This notebook analyzes Performance Monitoring Counter (PMC) events and their impact over time intervals using metrics from the `stats.csv` file."
   ]
  },
  {
   "cell_type": "code",
   "execution_count": null,
   "id": "4af019d0",
   "metadata": {},
   "outputs": [],
   "source": [
    "import pandas as pd\n",
    "import matplotlib.pyplot as plt\n",
    "\n",
    "# Load the stats.csv file\n",
    "file_path = '/home/said/GEM5/ARM_NEW/gem5/exp_86/i9_12900/barnes_4p_c2_o3/stats.csv'\n",
    "data = pd.read_csv(file_path)\n",
    "\n",
    "# Extract relevant metrics\n",
    "metrics = [\"system.cpu0.numCycles\", \"system.cpu0.instsIssued\", \"system.cpu0.dcache.demandMisses::total\", \"system.cpu0.branchPred.mispredicted_0::total\"]\n",
    "filtered_data = data[data['Metric'].isin(metrics)]\n",
    "\n",
    "# Display the filtered data\n",
    "filtered_data"
   ]
  },
  {
   "cell_type": "code",
   "execution_count": null,
   "id": "a266a0db",
   "metadata": {},
   "outputs": [],
   "source": [
    "# Plot the metrics to analyze their trends\n",
    "for metric in metrics:\n",
    "    metric_data = filtered_data[filtered_data['Metric'] == metric]\n",
    "    plt.plot(metric_data['Value'], label=metric)\n",
    "\n",
    "plt.xlabel('Time Intervals')\n",
    "plt.ylabel('Metric Values')\n",
    "plt.title('PMC Events Over Time Intervals')\n",
    "plt.legend()\n",
    "plt.show()"
   ]
  },
  {
   "cell_type": "code",
   "execution_count": null,
   "id": "9656047f",
   "metadata": {},
   "outputs": [],
   "source": [
    "# Ensure 'filtered_data' is defined and initialized\n",
    "try:\n",
    "    if 'filtered_data' not in locals():\n",
    "        raise NameError(\"'filtered_data' is not defined. Please ensure the relevant cell is executed.\")\n",
    "    \n",
    "    # Check if 'timestamp' column exists\n",
    "    if 'timestamp' in filtered_data.columns:\n",
    "        # Convert the timestamp column to datetime format\n",
    "        filtered_data['timestamp'] = pd.to_datetime(filtered_data['timestamp'])\n",
    "        \n",
    "        # Set the timestamp as the index\n",
    "        filtered_data.set_index('timestamp', inplace=True)\n",
    "        \n",
    "        # Resample data to calculate metrics over daily intervals\n",
    "        daily_metrics = filtered_data.resample('D').sum()\n",
    "        \n",
    "        # Display the daily metrics\n",
    "        print(daily_metrics.head())\n",
    "    else:\n",
    "        print(\"Error: 'timestamp' column not found in the dataset.\")\n",
    "except NameError as e:\n",
    "    print(e)"
   ]
  },
  {
   "cell_type": "code",
   "execution_count": null,
   "id": "99e929e6",
   "metadata": {},
   "outputs": [],
   "source": [
    "# Initialize 'filtered_data' if not already defined\n",
    "try:\n",
    "    if 'filtered_data' not in locals():\n",
    "        # Load the stats.csv file\n",
    "        file_path = '/home/said/GEM5/ARM_NEW/gem5/exp_86/i9_12900/barnes_4p_c2_o3/stats.csv'\n",
    "        data = pd.read_csv(file_path)\n",
    "        \n",
    "        # Extract relevant metrics\n",
    "        metrics = [\"system.cpu0.numCycles\", \"system.cpu0.instsIssued\", \"system.cpu0.dcache.demandMisses::total\", \"system.cpu0.branchPred.mispredicted_0::total\"]\n",
    "        filtered_data = data[data['Metric'].isin(metrics)]\n",
    "        print(\"'filtered_data' initialized successfully.\")\n",
    "except Exception as e:\n",
    "    print(f\"Error initializing 'filtered_data': {e}\")"
   ]
  }
 ],
 "metadata": {
  "language_info": {
   "name": "python"
  }
 },
 "nbformat": 4,
 "nbformat_minor": 5
}
